{
 "cells": [
  {
   "cell_type": "markdown",
   "metadata": {},
   "source": [
    "## 第3章: 正規表現\n",
    "\n",
    "time required: 3hours\n",
    "\n",
    "---"
   ]
  },
  {
   "cell_type": "markdown",
   "metadata": {},
   "source": [
    "Wikipediaの記事を以下のフォーマットで書き出したファイルjawiki-country.json.gzがある．\n",
    "\n",
    "- 1行に1記事の情報がJSON形式で格納される\n",
    "- 各行には記事名が\"title\"キーに，記事本文が\"text\"キーの辞書オブジェクトに格納され，そのオブジェクトがJSON形式で書き出される\n",
    "- ファイル全体はgzipで圧縮される\n",
    "\n",
    "以下の処理を行うプログラムを作成せよ．"
   ]
  },
  {
   "cell_type": "code",
   "execution_count": 1,
   "metadata": {
    "collapsed": true
   },
   "outputs": [],
   "source": [
    "%%bash\n",
    "\n",
    "# get file\n",
    "if [ ! -f jawiki-country.json ]; then\n",
    "    wget http://www.cl.ecei.tohoku.ac.jp/nlp100/data/jawiki-country.json.gz\n",
    "    gunzip -k jawiki-country.json.gz\n",
    "fi"
   ]
  },
  {
   "cell_type": "markdown",
   "metadata": {},
   "source": [
    "## 20. JSONデータの読み込み\n",
    "Wikipedia記事のJSONファイルを読み込み，「イギリス」に関する記事本文を表示せよ．問題21-29では，ここで抽出した記事本文に対して実行せよ．"
   ]
  },
  {
   "cell_type": "code",
   "execution_count": 2,
   "metadata": {},
   "outputs": [
    {
     "data": {
      "text/plain": [
       "206"
      ]
     },
     "execution_count": 2,
     "metadata": {},
     "output_type": "execute_result"
    }
   ],
   "source": [
    "import json\n",
    "\n",
    "data = {}\n",
    "with open('jawiki-country.json') as f:\n",
    "    for line in f.readlines():\n",
    "        j = json.loads(line.strip())\n",
    "        data[j['title']] = j['text']\n",
    "\n",
    "len(data)"
   ]
  },
  {
   "cell_type": "code",
   "execution_count": 3,
   "metadata": {},
   "outputs": [
    {
     "name": "stdout",
     "output_type": "stream",
     "text": [
      "{{redirect|UK}}\n",
      "{{基礎情報 国\n",
      "|略名 = イギリス\n",
      "|日本語国名 = グレートブリテン及び北アイルランド連合王国\n",
      "|公式国名 = {{lang|en|United Kingdom of Great Britain and Northern Ireland}}<ref>英語以外での正式国名:<br/>\n",
      "*{{lang|gd|An Rìoghachd Aonaichte na Breatainn Mhòr agus Eirinn mu Thuath}}（[[スコットランド・ゲール語]]）<br/>\n",
      "*{{lang|cy|Teyrnas Gyfunol Prydain Fawr a Gogledd Iwerddon}}（[[ウェールズ語]]）<br/>\n",
      "*{{lang|ga|Ríocht Aontaithe na Breataine Móire agus Tuaisceart na hÉireann}}（[[アイルランド語]]）<br/>\n",
      "*{{lang|kw|An Rywvaneth Unys a Vreten Veur hag Iwerdhon Glédh}}（[[コーンウォール語]]）<br/>\n",
      "*{{lang|sco|Unitit Kinrick o Great Breetain an Northren Ireland}}（[[スコットランド語]]）<br/>\n",
      "**{{lang|sco|Claught Kängrick o Docht Brätain an Norlin Airlann}}、{{lang|sco|Unitet Kängdom o Great Brittain an Norlin Airlann}}（アルスター・スコットランド語）</ref>\n",
      "|国旗画像 = Flag of the United Kingdom.svg\n",
      "|国章画像 = [[ファイル:Royal Coat of Arms of the United Kingdom.svg|85px|イギリスの国章]]\n",
      "|国章リンク = （[[イギリスの国章|国章]]）\n",
      "|標語 = {{lang|fr|Dieu et mon droit}}<br/>（[[フランス語]]:神と私の権利）\n",
      "|国歌 = [[女王陛下万歳|神よ女王陛下を守り給え]]\n",
      "|位置画像 = Location_UK_\n"
     ]
    }
   ],
   "source": [
    "print(data[u'イギリス'][:1000])"
   ]
  },
  {
   "cell_type": "markdown",
   "metadata": {},
   "source": [
    "## 21. カテゴリ名を含む行を抽出\n",
    "記事中でカテゴリ名を宣言している行を抽出せよ．"
   ]
  },
  {
   "cell_type": "code",
   "execution_count": 4,
   "metadata": {},
   "outputs": [
    {
     "name": "stdout",
     "output_type": "stream",
     "text": [
      "[[Category:イギリス|*]]\n",
      "[[Category:英連邦王国|*]]\n",
      "[[Category:G8加盟国]]\n",
      "[[Category:欧州連合加盟国]]\n",
      "[[Category:海洋国家]]\n",
      "[[Category:君主国]]\n",
      "[[Category:島国|くれいとふりてん]]\n",
      "[[Category:1801年に設立された州・地域]]\n"
     ]
    }
   ],
   "source": [
    "for line in data[u'イギリス'].split('\\n'):\n",
    "    if line.startswith('[[Category:'):\n",
    "        print(line)"
   ]
  },
  {
   "cell_type": "markdown",
   "metadata": {},
   "source": [
    "## 22. カテゴリ名の抽出\n",
    "記事のカテゴリ名を（行単位ではなく名前で）抽出せよ．"
   ]
  },
  {
   "cell_type": "code",
   "execution_count": 5,
   "metadata": {},
   "outputs": [
    {
     "name": "stdout",
     "output_type": "stream",
     "text": [
      "イギリス\n",
      "英連邦王国\n",
      "G8加盟国\n",
      "欧州連合加盟国\n",
      "海洋国家\n",
      "君主国\n",
      "島国\n",
      "1801年に設立された州・地域\n"
     ]
    }
   ],
   "source": [
    "import re\n",
    "for line in data[u'イギリス'].split('\\n'):\n",
    "    m = re.match(r\"^\\[\\[Category:([^\\]|]*)(|.*)?\\]\\]$\", line)\n",
    "    if m:\n",
    "        g = m.group(1, 2)\n",
    "        print(g[0])"
   ]
  },
  {
   "cell_type": "markdown",
   "metadata": {},
   "source": [
    "## 23. セクション構造\n",
    "記事中に含まれるセクション名とそのレベル（例えば\"== セクション名 ==\"なら1）を表示せよ．"
   ]
  },
  {
   "cell_type": "code",
   "execution_count": 6,
   "metadata": {},
   "outputs": [
    {
     "name": "stdout",
     "output_type": "stream",
     "text": [
      "    -  国名 (level 2)\n",
      "    -  歴史 (level 2)\n",
      "    -  地理 (level 2)\n",
      "      -  気候 (level 3)\n",
      "    -  政治 (level 2)\n",
      "    -  外交と軍事 (level 2)\n",
      "    -  地方行政区分 (level 2)\n",
      "      -  主要都市 (level 3)\n",
      "    -  科学技術 (level 2)\n",
      "    -  経済 (level 2)\n",
      "      -  鉱業 (level 3)\n",
      "      -  農業 (level 3)\n",
      "      -  貿易 (level 3)\n",
      "      -  通貨 (level 3)\n",
      "      -  企業 (level 3)\n",
      "    -  交通 (level 2)\n",
      "      -  道路 (level 3)\n",
      "      -  鉄道 (level 3)\n",
      "      -  海運 (level 3)\n",
      "      -  航空 (level 3)\n",
      "    -  通信 (level 2)\n",
      "    -  国民 (level 2)\n",
      "      -  言語 (level 3)\n",
      "      -  宗教 (level 3)\n",
      "      -   婚姻  (level 3)\n",
      "      -  教育 (level 3)\n",
      "    -  文化 (level 2)\n",
      "      -  食文化 (level 3)\n",
      "      -  文学 (level 3)\n",
      "      -   哲学  (level 3)\n",
      "      -  音楽 (level 3)\n",
      "        -  イギリスのポピュラー音楽 (level 4)\n",
      "      -  映画 (level 3)\n",
      "      -  コメディ (level 3)\n",
      "      -  国花 (level 3)\n",
      "      -  世界遺産 (level 3)\n",
      "      -  祝祭日 (level 3)\n",
      "    -  スポーツ (level 2)\n",
      "      -  サッカー (level 3)\n",
      "      -  競馬 (level 3)\n",
      "      -  モータースポーツ (level 3)\n",
      "    -  脚注 (level 2)\n",
      "    -  関連項目 (level 2)\n",
      "    -  外部リンク (level 2)\n"
     ]
    }
   ],
   "source": [
    "for line in data[u'イギリス'].split('\\n'):\n",
    "    m = re.match(r\"^(={2,4})(.*)(\\1)$\", line)\n",
    "    if m:\n",
    "        g = m.group(1, 2, 3)\n",
    "        print('%s %s (level %d)' % ('  '*len(g[0])+'- ', g[1], len(g[0])))"
   ]
  },
  {
   "cell_type": "markdown",
   "metadata": {},
   "source": [
    "## 24. ファイル参照の抽出\n",
    "記事から参照されているメディアファイルをすべて抜き出せ．"
   ]
  },
  {
   "cell_type": "code",
   "execution_count": 7,
   "metadata": {},
   "outputs": [
    {
     "name": "stdout",
     "output_type": "stream",
     "text": [
      "Battle of Waterloo 1815.PNG\n",
      "The British Empire.png\n",
      "Uk topo en.jpg\n",
      "BenNevis2005.jpg\n",
      "Elizabeth II greets NASA GSFC employees, May 8, 2007 edit.jpg\n",
      "Palace of Westminster, London - Feb 2007.jpg\n",
      "David Cameron and Barack Obama at the G20 Summit in Toronto.jpg\n",
      "Soldiers Trooping the Colour, 16th June 2007.jpg\n",
      "Scotland Parliament Holyrood.jpg\n",
      "London.bankofengland.arp.jpg\n",
      "City of London skyline from London City Hall - Oct 2008.jpg\n",
      "Oil platform in the North SeaPros.jpg\n",
      "Eurostar at St Pancras Jan 2008.jpg\n",
      "Heathrow T5.jpg\n",
      "Anglospeak.svg\n"
     ]
    }
   ],
   "source": [
    "media_ext = ['jpg', 'png', 'svg']\n",
    "for line in data[u'イギリス'].split('\\n'):\n",
    "    m = re.match(r\"^\\[\\[File:([^|]*)(.*)?\\]\\]$\", line)\n",
    "    if m:\n",
    "        g = m.group(1, 2)\n",
    "        assert g[0].rsplit('.', 1)[-1].lower() in media_ext\n",
    "        print(g[0])"
   ]
  },
  {
   "cell_type": "markdown",
   "metadata": {},
   "source": [
    "## 25. テンプレートの抽出\n",
    "記事中に含まれる「基礎情報」テンプレートのフィールド名と値を抽出し，辞書オブジェクトとして格納せよ．"
   ]
  },
  {
   "cell_type": "code",
   "execution_count": 8,
   "metadata": {},
   "outputs": [
    {
     "name": "stdout",
     "output_type": "stream",
     "text": [
      "        略名\tイギリス\n",
      "     日本語国名\tグレートブリテン及び北アイルランド連合王国\n",
      "      公式国名\t{{lang|en|United Kingdom of Great Britain and Northern Ireland}}<ref>英語以外での正式国名:<br/>\n",
      "*{{lang|gd|An Rìoghachd Aonaichte na Breatainn Mhòr agus Eirinn mu Thuath}}（[[スコットランド・ゲール語]]）<br/>\n",
      "*{{lang|cy|Teyrnas Gyfunol Prydain Fawr a Gogledd Iwerddon}}（[[ウェールズ語]]）<br/>\n",
      "*{{lang|ga|Ríocht Aontaithe na Breataine Móire agus Tuaisceart na hÉireann}}（[[アイルランド語]]）<br/>\n",
      "*{{lang|kw|An Rywvaneth Unys a Vreten Veur hag Iwerdhon Glédh}}（[[コーンウォール語]]）<br/>\n",
      "*{{lang|sco|Unitit Kinrick o Great Breetain an Northren Ireland}}（[[スコットランド語]]）<br/>\n",
      "**{{lang|sco|Claught Kängrick o Docht Brätain an Norlin Airlann}}、{{lang|sco|Unitet Kängdom o Great Brittain an Norlin Airlann}}（アルスター・スコットランド語）</ref>\n",
      "      国旗画像\tFlag of the United Kingdom.svg\n",
      "      国章画像\t[[ファイル:Royal Coat of Arms of the United Kingdom.svg|85px|イギリスの国章]]\n",
      "     国章リンク\t（[[イギリスの国章|国章]]）\n",
      "        標語\t{{lang|fr|Dieu et mon droit}}<br/>（[[フランス語]]:神と私の権利）\n",
      "        国歌\t[[女王陛下万歳|神よ女王陛下を守り給え]]\n",
      "      位置画像\tLocation_UK_EU_Europe_001.svg\n",
      "       公用語\t[[英語]]（事実上）\n",
      "        首都\t[[ロンドン]]\n",
      "      最大都市\tロンドン\n",
      "     元首等肩書\t[[イギリスの君主|女王]]\n",
      "     元首等氏名\t[[エリザベス2世]]\n",
      "     首相等肩書\t[[イギリスの首相|首相]]\n",
      "     首相等氏名\t[[デーヴィッド・キャメロン]]\n",
      "      面積順位\t76\n",
      "     面積大きさ\t1 E11\n",
      "       面積値\t244,820\n",
      "      水面積率\t1.3%\n",
      "     人口統計年\t2011\n",
      "      人口順位\t22\n",
      "     人口大きさ\t1 E7\n",
      "       人口値\t63,181,775<ref>[http://esa.un.org/unpd/wpp/Excel-Data/population.htm United Nations Department of Economic and Social Affairs>Population Division>Data>Population>Total Population]</ref>\n",
      "     人口密度値\t246\n",
      "   GDP統計年元\t2012\n",
      "     GDP値元\t1兆5478億<ref name=\"imf-statistics-gdp\">[http://www.imf.org/external/pubs/ft/weo/2012/02/weodata/weorept.aspx?pr.x=70&pr.y=13&sy=2010&ey=2012&scsm=1&ssd=1&sort=country&ds=.&br=1&c=112&s=NGDP%2CNGDPD%2CPPPGDP%2CPPPPC&grp=0&a= IMF>Data and Statistics>World Economic Outlook Databases>By Countrise>United Kingdom]</ref>\n",
      " GDP統計年MER\t2012\n",
      "  GDP順位MER\t5\n",
      "   GDP値MER\t2兆4337億<ref name=\"imf-statistics-gdp\" />\n",
      "    GDP統計年\t2012\n",
      "     GDP順位\t6\n",
      "      GDP値\t2兆3162億<ref name=\"imf-statistics-gdp\" />\n",
      "     GDP/人\t36,727<ref name=\"imf-statistics-gdp\" />\n",
      "      建国形態\t建国\n",
      "     確立形態1\t[[イングランド王国]]／[[スコットランド王国]]<br />（両国とも[[連合法 (1707年)|1707年連合法]]まで）\n",
      "    確立年月日1\t[[927年]]／[[843年]]\n",
      "     確立形態2\t[[グレートブリテン王国]]建国<br />（[[連合法 (1707年)|1707年連合法]]）\n",
      "    確立年月日2\t[[1707年]]\n",
      "     確立形態3\t[[グレートブリテン及びアイルランド連合王国]]建国<br />（[[連合法 (1800年)|1800年連合法]]）\n",
      "    確立年月日3\t[[1801年]]\n",
      "     確立形態4\t現在の国号「'''グレートブリテン及び北アイルランド連合王国'''」に変更\n",
      "    確立年月日4\t[[1927年]]\n",
      "        通貨\t[[スターリング・ポンド|UKポンド]] (&pound;)\n",
      "     通貨コード\tGBP\n",
      "       時間帯\t±0\n",
      "       夏時間\t+1\n",
      "ISO 3166-1\tGB / GBR\n",
      "     ccTLD\t[[.uk]] / [[.gb]]<ref>使用は.ukに比べ圧倒的少数。</ref>\n",
      "    国際電話番号\t44\n",
      "        注記\t<references />\n"
     ]
    }
   ],
   "source": [
    "# regex matching nested parenthesis\n",
    "#        source: http://blog.ni-ken.net/2015/04/python-regex-tips/\n",
    "\n",
    "import regex\n",
    "from collections import OrderedDict\n",
    "\n",
    "text = data[u'イギリス']\n",
    "while True:\n",
    "    m = regex.match(r\"(?<reg>\\{(?:[^{}]+|(?&reg))*\\})\", text)\n",
    "    if m:\n",
    "        infobox25 = m.group('reg')\n",
    "        if infobox25.startswith(u'{{基礎情報'):\n",
    "            break\n",
    "        else:\n",
    "            text = text[len(infobox25)+1:]\n",
    "    #else:\n",
    "    #    raise Error('not found!')\n",
    "    #    break\n",
    "\n",
    "def construct_infobox_dict(infobox):\n",
    "    \"\"\"save data in dict\"\"\"\n",
    "    dic = OrderedDict()\n",
    "    for line in infobox.strip('{}').split('\\n|'):\n",
    "        info = line.split('=', 1)\n",
    "        if len(info) == 2:\n",
    "            dic[info[0].strip()] = info[1].strip()\n",
    "    return dic\n",
    "\n",
    "\n",
    "dic = construct_infobox_dict(infobox25)\n",
    "for k, v in dic.items():\n",
    "    print('%10s\\t%s' % (k, v))"
   ]
  },
  {
   "cell_type": "markdown",
   "metadata": {},
   "source": [
    "## 26. 強調マークアップの除去\n",
    "25の処理時に，テンプレートの値からMediaWikiの強調マークアップ（弱い強調，強調，強い強調のすべて）を除去してテキストに変換せよ（参考: マークアップ早見表）．"
   ]
  },
  {
   "cell_type": "code",
   "execution_count": 9,
   "metadata": {},
   "outputs": [
    {
     "name": "stdout",
     "output_type": "stream",
     "text": [
      "        略名\tイギリス\n",
      "     日本語国名\tグレートブリテン及び北アイルランド連合王国\n",
      "      公式国名\t{{lang|en|United Kingdom of Great Britain and Northern Ireland}}<ref>英語以外での正式国名:<br/>\n",
      "*{{lang|gd|An Rìoghachd Aonaichte na Breatainn Mhòr agus Eirinn mu Thuath}}（[[スコットランド・ゲール語]]）<br/>\n",
      "*{{lang|cy|Teyrnas Gyfunol Prydain Fawr a Gogledd Iwerddon}}（[[ウェールズ語]]）<br/>\n",
      "*{{lang|ga|Ríocht Aontaithe na Breataine Móire agus Tuaisceart na hÉireann}}（[[アイルランド語]]）<br/>\n",
      "*{{lang|kw|An Rywvaneth Unys a Vreten Veur hag Iwerdhon Glédh}}（[[コーンウォール語]]）<br/>\n",
      "*{{lang|sco|Unitit Kinrick o Great Breetain an Northren Ireland}}（[[スコットランド語]]）<br/>\n",
      "**{{lang|sco|Claught Kängrick o Docht Brätain an Norlin Airlann}}、{{lang|sco|Unitet Kängdom o Great Brittain an Norlin Airlann}}（アルスター・スコットランド語）</ref>\n",
      "      国旗画像\tFlag of the United Kingdom.svg\n",
      "      国章画像\t[[ファイル:Royal Coat of Arms of the United Kingdom.svg|85px|イギリスの国章]]\n",
      "     国章リンク\t（[[イギリスの国章|国章]]）\n",
      "        標語\t{{lang|fr|Dieu et mon droit}}<br/>（[[フランス語]]:神と私の権利）\n",
      "        国歌\t[[女王陛下万歳|神よ女王陛下を守り給え]]\n",
      "      位置画像\tLocation_UK_EU_Europe_001.svg\n",
      "       公用語\t[[英語]]（事実上）\n",
      "        首都\t[[ロンドン]]\n",
      "      最大都市\tロンドン\n",
      "     元首等肩書\t[[イギリスの君主|女王]]\n",
      "     元首等氏名\t[[エリザベス2世]]\n",
      "     首相等肩書\t[[イギリスの首相|首相]]\n",
      "     首相等氏名\t[[デーヴィッド・キャメロン]]\n",
      "      面積順位\t76\n",
      "     面積大きさ\t1 E11\n",
      "       面積値\t244,820\n",
      "      水面積率\t1.3%\n",
      "     人口統計年\t2011\n",
      "      人口順位\t22\n",
      "     人口大きさ\t1 E7\n",
      "       人口値\t63,181,775<ref>[http://esa.un.org/unpd/wpp/Excel-Data/population.htm United Nations Department of Economic and Social Affairs>Population Division>Data>Population>Total Population]</ref>\n",
      "     人口密度値\t246\n",
      "   GDP統計年元\t2012\n",
      "     GDP値元\t1兆5478億<ref name=\"imf-statistics-gdp\">[http://www.imf.org/external/pubs/ft/weo/2012/02/weodata/weorept.aspx?pr.x=70&pr.y=13&sy=2010&ey=2012&scsm=1&ssd=1&sort=country&ds=.&br=1&c=112&s=NGDP%2CNGDPD%2CPPPGDP%2CPPPPC&grp=0&a= IMF>Data and Statistics>World Economic Outlook Databases>By Countrise>United Kingdom]</ref>\n",
      " GDP統計年MER\t2012\n",
      "  GDP順位MER\t5\n",
      "   GDP値MER\t2兆4337億<ref name=\"imf-statistics-gdp\" />\n",
      "    GDP統計年\t2012\n",
      "     GDP順位\t6\n",
      "      GDP値\t2兆3162億<ref name=\"imf-statistics-gdp\" />\n",
      "     GDP/人\t36,727<ref name=\"imf-statistics-gdp\" />\n",
      "      建国形態\t建国\n",
      "     確立形態1\t[[イングランド王国]]／[[スコットランド王国]]<br />（両国とも[[連合法 (1707年)|1707年連合法]]まで）\n",
      "    確立年月日1\t[[927年]]／[[843年]]\n",
      "     確立形態2\t[[グレートブリテン王国]]建国<br />（[[連合法 (1707年)|1707年連合法]]）\n",
      "    確立年月日2\t[[1707年]]\n",
      "     確立形態3\t[[グレートブリテン及びアイルランド連合王国]]建国<br />（[[連合法 (1800年)|1800年連合法]]）\n",
      "    確立年月日3\t[[1801年]]\n",
      "     確立形態4\t現在の国号「グレートブリテン及び北アイルランド連合王国」に変更\n",
      "    確立年月日4\t[[1927年]]\n",
      "        通貨\t[[スターリング・ポンド|UKポンド]] (&pound;)\n",
      "     通貨コード\tGBP\n",
      "       時間帯\t±0\n",
      "       夏時間\t+1\n",
      "ISO 3166-1\tGB / GBR\n",
      "     ccTLD\t[[.uk]] / [[.gb]]<ref>使用は.ukに比べ圧倒的少数。</ref>\n",
      "    国際電話番号\t44\n",
      "        注記\t<references />\n"
     ]
    }
   ],
   "source": [
    "infobox26 = re.sub(r\"('{2,5})([^']+)\\1\", r\"\\2\", infobox25)\n",
    "dic = construct_infobox_dict(infobox26)\n",
    "for k, v in dic.items():\n",
    "    print('%10s\\t%s' % (k, v))"
   ]
  },
  {
   "cell_type": "markdown",
   "metadata": {},
   "source": [
    "## 27. 内部リンクの除去\n",
    "26の処理に加えて，テンプレートの値からMediaWikiの内部リンクマークアップを除去し，テキストに変換せよ（参考: マークアップ早見表）．"
   ]
  },
  {
   "cell_type": "code",
   "execution_count": 10,
   "metadata": {},
   "outputs": [
    {
     "name": "stdout",
     "output_type": "stream",
     "text": [
      "        略名\tイギリス\n",
      "     日本語国名\tグレートブリテン及び北アイルランド連合王国\n",
      "      公式国名\t{{lang|en|United Kingdom of Great Britain and Northern Ireland}}<ref>英語以外での正式国名:<br/>\n",
      "*{{lang|gd|An Rìoghachd Aonaichte na Breatainn Mhòr agus Eirinn mu Thuath}}（スコットランド・ゲール語）<br/>\n",
      "*{{lang|cy|Teyrnas Gyfunol Prydain Fawr a Gogledd Iwerddon}}（ウェールズ語）<br/>\n",
      "*{{lang|ga|Ríocht Aontaithe na Breataine Móire agus Tuaisceart na hÉireann}}（アイルランド語）<br/>\n",
      "*{{lang|kw|An Rywvaneth Unys a Vreten Veur hag Iwerdhon Glédh}}（コーンウォール語）<br/>\n",
      "*{{lang|sco|Unitit Kinrick o Great Breetain an Northren Ireland}}（スコットランド語）<br/>\n",
      "**{{lang|sco|Claught Kängrick o Docht Brätain an Norlin Airlann}}、{{lang|sco|Unitet Kängdom o Great Brittain an Norlin Airlann}}（アルスター・スコットランド語）</ref>\n",
      "      国旗画像\tFlag of the United Kingdom.svg\n",
      "      国章画像\tイギリスの国章\n",
      "     国章リンク\t（国章）\n",
      "        標語\t{{lang|fr|Dieu et mon droit}}<br/>（フランス語:神と私の権利）\n",
      "        国歌\t神よ女王陛下を守り給え\n",
      "      位置画像\tLocation_UK_EU_Europe_001.svg\n",
      "       公用語\t英語（事実上）\n",
      "        首都\tロンドン\n",
      "      最大都市\tロンドン\n",
      "     元首等肩書\t女王\n",
      "     元首等氏名\tエリザベス2世\n",
      "     首相等肩書\t首相\n",
      "     首相等氏名\tデーヴィッド・キャメロン\n",
      "      面積順位\t76\n",
      "     面積大きさ\t1 E11\n",
      "       面積値\t244,820\n",
      "      水面積率\t1.3%\n",
      "     人口統計年\t2011\n",
      "      人口順位\t22\n",
      "     人口大きさ\t1 E7\n",
      "       人口値\t63,181,775<ref>[http://esa.un.org/unpd/wpp/Excel-Data/population.htm United Nations Department of Economic and Social Affairs>Population Division>Data>Population>Total Population]</ref>\n",
      "     人口密度値\t246\n",
      "   GDP統計年元\t2012\n",
      "     GDP値元\t1兆5478億<ref name=\"imf-statistics-gdp\">[http://www.imf.org/external/pubs/ft/weo/2012/02/weodata/weorept.aspx?pr.x=70&pr.y=13&sy=2010&ey=2012&scsm=1&ssd=1&sort=country&ds=.&br=1&c=112&s=NGDP%2CNGDPD%2CPPPGDP%2CPPPPC&grp=0&a= IMF>Data and Statistics>World Economic Outlook Databases>By Countrise>United Kingdom]</ref>\n",
      " GDP統計年MER\t2012\n",
      "  GDP順位MER\t5\n",
      "   GDP値MER\t2兆4337億<ref name=\"imf-statistics-gdp\" />\n",
      "    GDP統計年\t2012\n",
      "     GDP順位\t6\n",
      "      GDP値\t2兆3162億<ref name=\"imf-statistics-gdp\" />\n",
      "     GDP/人\t36,727<ref name=\"imf-statistics-gdp\" />\n",
      "      建国形態\t建国\n",
      "     確立形態1\tイングランド王国／スコットランド王国<br />（両国とも1707年連合法まで）\n",
      "    確立年月日1\t927年／843年\n",
      "     確立形態2\tグレートブリテン王国建国<br />（1707年連合法）\n",
      "    確立年月日2\t1707年\n",
      "     確立形態3\tグレートブリテン及びアイルランド連合王国建国<br />（1800年連合法）\n",
      "    確立年月日3\t1801年\n",
      "     確立形態4\t現在の国号「グレートブリテン及び北アイルランド連合王国」に変更\n",
      "    確立年月日4\t1927年\n",
      "        通貨\tUKポンド (&pound;)\n",
      "     通貨コード\tGBP\n",
      "       時間帯\t±0\n",
      "       夏時間\t+1\n",
      "ISO 3166-1\tGB / GBR\n",
      "     ccTLD\t.uk / .gb<ref>使用は.ukに比べ圧倒的少数。</ref>\n",
      "    国際電話番号\t44\n",
      "        注記\t<references />\n"
     ]
    }
   ],
   "source": [
    "infobox27 = re.sub(r\"\\[\\[(([^|\\]]+\\|)*([^\\]]+))\\]\\]\", r\"\\3\", infobox26)\n",
    "dic = construct_infobox_dict(infobox27)\n",
    "for k, v in dic.items():\n",
    "    print('%10s\\t%s' % (k, v))"
   ]
  },
  {
   "cell_type": "markdown",
   "metadata": {},
   "source": [
    "## 28. MediaWikiマークアップの除去\n",
    "27の処理に加えて，テンプレートの値からMediaWikiマークアップを可能な限り除去し，国の基本情報を整形せよ．"
   ]
  },
  {
   "cell_type": "code",
   "execution_count": 11,
   "metadata": {},
   "outputs": [
    {
     "name": "stdout",
     "output_type": "stream",
     "text": [
      "      国旗画像\tFlag of the United Kingdom.svg\n",
      "      国章画像\tイギリスの国章\n",
      "     国章リンク\t（国章）\n",
      "        標語\tDieu et mon droit（フランス語:神と私の権利）\n",
      "        国歌\t神よ女王陛下を守り給え\n",
      "      位置画像\tLocation_UK_EU_Europe_001.svg\n",
      "       公用語\t英語（事実上）\n",
      "        首都\tロンドン\n",
      "      最大都市\tロンドン\n",
      "     元首等肩書\t女王\n",
      "     元首等氏名\tエリザベス2世\n",
      "     首相等肩書\t首相\n",
      "     首相等氏名\tデーヴィッド・キャメロン\n",
      "      面積順位\t76\n",
      "     面積大きさ\t1 E11\n",
      "       面積値\t244,820\n",
      "      水面積率\t1.3%\n",
      "     人口統計年\t2011\n",
      "      人口順位\t22\n",
      "     人口大きさ\t1 E7\n",
      "       人口値\t63,181,775\n",
      "     人口密度値\t246\n",
      "   GDP統計年元\t2012\n",
      "     GDP値元\t1兆5478億\n",
      " GDP統計年MER\t2012\n",
      "  GDP順位MER\t5\n",
      "   GDP値MER\t2兆4337億\n",
      "    GDP統計年\t2012\n",
      "     GDP順位\t6\n",
      "      GDP値\t2兆3162億\n",
      "     GDP/人\t36,727\n",
      "      建国形態\t建国\n",
      "     確立形態1\tイングランド王国／スコットランド王国（両国とも1707年連合法まで）\n",
      "    確立年月日1\t927年／843年\n",
      "     確立形態2\tグレートブリテン王国建国（1707年連合法）\n",
      "    確立年月日2\t1707年\n",
      "     確立形態3\tグレートブリテン及びアイルランド連合王国建国（1800年連合法）\n",
      "    確立年月日3\t1801年\n",
      "     確立形態4\t現在の国号「グレートブリテン及び北アイルランド連合王国」に変更\n",
      "    確立年月日4\t1927年\n",
      "        通貨\tUKポンド (£)\n",
      "     通貨コード\tGBP\n",
      "       時間帯\t±0\n",
      "       夏時間\t+1\n",
      "ISO 3166-1\tGB / GBR\n",
      "     ccTLD\t.uk / .gb\n",
      "    国際電話番号\t44\n",
      "        注記\t\n"
     ]
    }
   ],
   "source": [
    "from html.entities import html5\n",
    "infobox28 = re.sub(r\"\\{\\{(([^|}]+\\|)*([^}]+))\\}\\}\", r\"\\3\", infobox27)\n",
    "infobox28 = re.sub(r\"<([^>]+)[^>]*>([^<]+)</\\1>\", \"\", infobox28)\n",
    "infobox28 = re.sub(r\"<([^/>]+)/>\", \"\", infobox28)\n",
    "html_symbols = re.findall(r\"&[a-z]+;\", infobox28)\n",
    "for symbol in html_symbols:\n",
    "    infobox28 = infobox28.replace(symbol, html5[symbol[1:]])\n",
    "dic = construct_infobox_dict(infobox28)\n",
    "for k, v in dic.items():\n",
    "    print('%10s\\t%s' % (k, v))"
   ]
  },
  {
   "cell_type": "markdown",
   "metadata": {},
   "source": [
    "## 29. 国旗画像のURLを取得する\n",
    "テンプレートの内容を利用し，国旗画像のURLを取得せよ．（ヒント: MediaWiki APIのimageinfoを呼び出して，ファイル参照をURLに変換すればよい）"
   ]
  },
  {
   "cell_type": "code",
   "execution_count": 12,
   "metadata": {},
   "outputs": [
    {
     "name": "stdout",
     "output_type": "stream",
     "text": [
      "https://upload.wikimedia.org/wikipedia/commons/a/ae/Flag_of_the_United_Kingdom.svg\n"
     ]
    }
   ],
   "source": [
    "from six.moves.urllib.request import urlopen\n",
    "from xml.etree.ElementTree import fromstring, tostring\n",
    "\n",
    "url = \"http://ja.wikipedia.org/w/api.php?format=xml&action=query\"\n",
    "url += \"&titles=Image:%s&prop=imageinfo&iiprop=url\" % dic[u\"国旗画像\"].replace(' ', '_')\n",
    "\n",
    "xml = urlopen(url).read()\n",
    "tree = fromstring(xml)\n",
    "imageinfo = tree.find('.//imageinfo/*[@url]')\n",
    "print(imageinfo.attrib.get(\"url\"))"
   ]
  },
  {
   "cell_type": "markdown",
   "metadata": {
    "collapsed": true
   },
   "source": [
    "![](https://upload.wikimedia.org/wikipedia/commons/a/ae/Flag_of_the_United_Kingdom.svg)"
   ]
  },
  {
   "cell_type": "code",
   "execution_count": null,
   "metadata": {
    "collapsed": true
   },
   "outputs": [],
   "source": []
  }
 ],
 "metadata": {
  "kernelspec": {
   "display_name": "Python 3",
   "language": "python",
   "name": "python3"
  },
  "language_info": {
   "codemirror_mode": {
    "name": "ipython",
    "version": 3
   },
   "file_extension": ".py",
   "mimetype": "text/x-python",
   "name": "python",
   "nbconvert_exporter": "python",
   "pygments_lexer": "ipython3",
   "version": "3.6.2"
  }
 },
 "nbformat": 4,
 "nbformat_minor": 2
}
