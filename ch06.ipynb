{
 "cells": [
  {
   "cell_type": "markdown",
   "metadata": {},
   "source": [
    "# 第6章: 英語テキストの処理\n",
    "\n",
    "---"
   ]
  },
  {
   "cell_type": "markdown",
   "metadata": {},
   "source": [
    "英語のテキスト（nlp.txt）に対して，以下の処理を実行せよ．"
   ]
  },
  {
   "cell_type": "code",
   "execution_count": 1,
   "metadata": {},
   "outputs": [
    {
     "name": "stdout",
     "output_type": "stream",
     "text": [
      "      34 nlp.txt\n",
      "----------\n",
      "Natural language processing\n",
      "From Wikipedia, the free encyclopedia\n",
      "\n",
      "Natural language processing (NLP) is a field of computer science, artificial intelligence, and linguistics concerned with the interactions between computers and human (natural) languages. As such, NLP is related to the area of humani-computer interaction. Many challenges in NLP involve natural language understanding, that is, enabling computers to derive meaning from human or natural language input, and others involve natural language generation.\n",
      "\n",
      "History\n",
      "\n",
      "The history of NLP generally starts in the 1950s, although work can be found from earlier periods. In 1950, Alan Turing published an article titled \"Computing Machinery and Intelligence\" which proposed what is now called the Turing test as a criterion of intelligence.\n",
      "\n",
      "The Georgetown experiment in 1954 involved fully automatic translation of more than sixty Russian sentences into English. The authors claimed that within three or five years, machine translation would be a solved problem. However, real progress was much slower, and after the ALPAC report in 1966, which found that ten year long research had failed to fulfill the expectations, funding for machine translation was dramatically reduced. Little further research in machine translation was conducted until the late 1980s, when the first statistical machine translation systems were developed.\n"
     ]
    }
   ],
   "source": [
    "%%bash\n",
    "\n",
    "# download\n",
    "if [ ! -f nlp.txt ]; then\n",
    "    wget http://www.cl.ecei.tohoku.ac.jp/nlp100/data/nlp.txt\n",
    "fi\n",
    "\n",
    "wc -l nlp.txt\n",
    "echo '----------'\n",
    "head nlp.txt"
   ]
  },
  {
   "cell_type": "markdown",
   "metadata": {},
   "source": [
    "## 50. 文区切り\n",
    "(. or ; or : or ? or !) → 空白文字 → 英大文字というパターンを文の区切りと見なし，入力された文書を1行1文の形式で出力せよ"
   ]
  },
  {
   "cell_type": "code",
   "execution_count": 2,
   "metadata": {
    "collapsed": true
   },
   "outputs": [],
   "source": [
    "import re\n",
    "import os\n",
    "\n",
    "with open('nlp.txt', 'r') as in_f:\n",
    "    with open('nlp_split.txt', 'w') as out_f:\n",
    "        for line in in_f.readlines():\n",
    "            line = re.sub(r'([.;:?!])\\W([A-Z])', r'\\1 ||| \\2', line.strip())\n",
    "            for sent in line.split(' ||| '):\n",
    "                out_f.write(sent.strip()+'\\n')"
   ]
  },
  {
   "cell_type": "code",
   "execution_count": 3,
   "metadata": {},
   "outputs": [
    {
     "name": "stdout",
     "output_type": "stream",
     "text": [
      "      69 nlp_split.txt\n",
      "----------\n",
      "Natural language processing\n",
      "From Wikipedia, the free encyclopedia\n",
      "\n",
      "Natural language processing (NLP) is a field of computer science, artificial intelligence, and linguistics concerned with the interactions between computers and human (natural) languages.\n",
      "As such, NLP is related to the area of humani-computer interaction.\n",
      "Many challenges in NLP involve natural language understanding, that is, enabling computers to derive meaning from human or natural language input, and others involve natural language generation.\n",
      "\n",
      "History\n",
      "\n",
      "The history of NLP generally starts in the 1950s, although work can be found from earlier periods.\n"
     ]
    }
   ],
   "source": [
    "%%bash\n",
    "\n",
    "wc -l nlp_split.txt\n",
    "echo '----------'\n",
    "head nlp_split.txt"
   ]
  },
  {
   "cell_type": "markdown",
   "metadata": {},
   "source": [
    "## 51. 単語の切り出し\n",
    "空白を単語の区切りとみなし，50の出力を入力として受け取り，1行1単語の形式で出力せよ．ただし，文の終端では空行を出力せよ．"
   ]
  },
  {
   "cell_type": "code",
   "execution_count": 4,
   "metadata": {
    "collapsed": true
   },
   "outputs": [],
   "source": [
    "with open('nlp_split.txt', 'r') as in_f:\n",
    "    with open('nlp_vocab.txt', 'w') as out_f:\n",
    "        for line in in_f.readlines():\n",
    "            if line:\n",
    "                for word in line.split():\n",
    "                    out_f.write(word.strip()+'\\n')\n",
    "                out_f.write('\\n')"
   ]
  },
  {
   "cell_type": "code",
   "execution_count": 5,
   "metadata": {},
   "outputs": [
    {
     "name": "stdout",
     "output_type": "stream",
     "text": [
      "    1328 nlp_vocab.txt\n",
      "----------\n",
      "Natural\n",
      "language\n",
      "processing\n",
      "\n",
      "From\n",
      "Wikipedia,\n",
      "the\n",
      "free\n",
      "encyclopedia\n",
      "\n"
     ]
    }
   ],
   "source": [
    "%%bash\n",
    "\n",
    "wc -l nlp_vocab.txt\n",
    "echo '----------'\n",
    "head nlp_vocab.txt"
   ]
  },
  {
   "cell_type": "markdown",
   "metadata": {},
   "source": [
    "## 52. ステミング\n",
    "51の出力を入力として受け取り，Porterのステミングアルゴリズムを適用し，単語と語幹をタブ区切り形式で出力せよ． Pythonでは，Porterのステミングアルゴリズムの実装としてstemmingモジュールを利用するとよい．"
   ]
  },
  {
   "cell_type": "code",
   "execution_count": 6,
   "metadata": {
    "collapsed": true
   },
   "outputs": [],
   "source": [
    "from nltk.stem.porter import PorterStemmer\n",
    "\n",
    "stermmer = PorterStemmer()\n",
    "with open('nlp_vocab.txt', 'r') as in_f:\n",
    "    with open('nlp_stem.txt', 'w') as out_f:\n",
    "        for word in in_f.readlines():\n",
    "            word = word.strip().strip('.,\"()')\n",
    "            if word:\n",
    "                out_f.write(stermmer.stem(word)+'\\n')"
   ]
  },
  {
   "cell_type": "code",
   "execution_count": 7,
   "metadata": {},
   "outputs": [
    {
     "name": "stdout",
     "output_type": "stream",
     "text": [
      "natur\n",
      "languag\n",
      "process\n",
      "from\n",
      "wikipedia\n",
      "the\n",
      "free\n",
      "encyclopedia\n",
      "natur\n",
      "languag\n"
     ]
    }
   ],
   "source": [
    "%%bash\n",
    "\n",
    "head nlp_stem.txt"
   ]
  },
  {
   "cell_type": "markdown",
   "metadata": {},
   "source": [
    "## 53. Tokenization\n",
    "Stanford Core NLPを用い，入力テキストの解析結果をXML形式で得よ．また，このXMLファイルを読み込み，入力テキストを1行1単語の形式で出力せよ．"
   ]
  },
  {
   "cell_type": "code",
   "execution_count": 8,
   "metadata": {},
   "outputs": [
    {
     "name": "stderr",
     "output_type": "stream",
     "text": [
      "[main] INFO edu.stanford.nlp.pipeline.StanfordCoreNLP - Searching for resource: StanfordCoreNLP.properties\n",
      "[main] INFO edu.stanford.nlp.pipeline.StanfordCoreNLP - Searching for resource: edu/stanford/nlp/pipeline/StanfordCoreNLP.properties\n",
      "[main] INFO edu.stanford.nlp.pipeline.StanfordCoreNLP - Adding annotator tokenize\n",
      "[main] INFO edu.stanford.nlp.pipeline.TokenizerAnnotator - TokenizerAnnotator: No tokenizer type provided. Defaulting to PTBTokenizer.\n",
      "[main] INFO edu.stanford.nlp.pipeline.StanfordCoreNLP - Adding annotator ssplit\n",
      "[main] INFO edu.stanford.nlp.pipeline.StanfordCoreNLP - Adding annotator pos\n",
      "Reading POS tagger model from edu/stanford/nlp/models/pos-tagger/english-left3words/english-left3words-distsim.tagger ... done [1.3 sec].\n",
      "[main] INFO edu.stanford.nlp.pipeline.StanfordCoreNLP - Adding annotator lemma\n",
      "[main] INFO edu.stanford.nlp.pipeline.StanfordCoreNLP - Adding annotator ner\n",
      "Loading classifier from edu/stanford/nlp/models/ner/english.all.3class.distsim.crf.ser.gz ... done [2.4 sec].\n",
      "Loading classifier from edu/stanford/nlp/models/ner/english.muc.7class.distsim.crf.ser.gz ... done [1.9 sec].\n",
      "Loading classifier from edu/stanford/nlp/models/ner/english.conll.4class.distsim.crf.ser.gz ... done [1.0 sec].\n",
      "[main] INFO edu.stanford.nlp.time.JollyDayHolidays - Initializing JollyDayHoliday for SUTime from classpath edu/stanford/nlp/models/sutime/jollyday/Holidays_sutime.xml as sutime.binder.1.\n",
      "Reading TokensRegex rules from edu/stanford/nlp/models/sutime/defs.sutime.txt\n",
      "Aug 23, 2017 2:24:58 PM edu.stanford.nlp.ling.tokensregex.CoreMapExpressionExtractor appendRules\n",
      "INFO: Read 83 rules\n",
      "Reading TokensRegex rules from edu/stanford/nlp/models/sutime/english.sutime.txt\n",
      "Aug 23, 2017 2:24:58 PM edu.stanford.nlp.ling.tokensregex.CoreMapExpressionExtractor appendRules\n",
      "INFO: Read 267 rules\n",
      "Reading TokensRegex rules from edu/stanford/nlp/models/sutime/english.holidays.sutime.txt\n",
      "Aug 23, 2017 2:24:58 PM edu.stanford.nlp.ling.tokensregex.CoreMapExpressionExtractor appendRules\n",
      "INFO: Read 25 rules\n",
      "[main] INFO edu.stanford.nlp.pipeline.StanfordCoreNLP - Adding annotator parse\n",
      "[main] INFO edu.stanford.nlp.parser.common.ParserGrammar - Loading parser from serialized file edu/stanford/nlp/models/lexparser/englishPCFG.ser.gz ... \n",
      "done [0.5 sec].\n",
      "[main] INFO edu.stanford.nlp.pipeline.StanfordCoreNLP - Adding annotator mention\n",
      "Using mention detector type: rule\n",
      "[main] INFO edu.stanford.nlp.pipeline.StanfordCoreNLP - Adding annotator coref\n",
      "\n",
      "Entering interactive shell. Type q RETURN or EOF to quit.\n",
      "NLP> Annotation pipeline timing information:\n",
      "TokenizerAnnotator: 0.0 sec.\n",
      "WordsToSentencesAnnotator: 0.0 sec.\n",
      "POSTaggerAnnotator: 0.0 sec.\n",
      "MorphaAnnotator: 0.0 sec.\n",
      "NERCombinerAnnotator: 0.0 sec.\n",
      "ParserAnnotator: 0.0 sec.\n",
      "MentionAnnotator: 0.0 sec.\n",
      "CorefAnnotator: 0.0 sec.\n",
      "TOTAL: 0.0 sec. for 0 tokens at NaN tokens/sec.\n",
      "Pipeline setup: 74.1 sec.\n",
      "Total time for StanfordCoreNLP pipeline: 74.2 sec.\n"
     ]
    }
   ],
   "source": [
    "%%bash\n",
    "\n",
    "scriptdir=\"stanford-corenlp-full-2015-12-09\"\n",
    "\n",
    "java -mx5g -cp \"$scriptdir/*\" edu.stanford.nlp.pipeline.StanfordCoreNLP \\\n",
    " -inputFile nlp_split.txt -outputFile nlp -ssplit.eolonly -outputFormat \"xml\""
   ]
  },
  {
   "cell_type": "code",
   "execution_count": 9,
   "metadata": {},
   "outputs": [
    {
     "name": "stdout",
     "output_type": "stream",
     "text": [
      "<?xml version=\"1.0\" encoding=\"UTF-8\"?>\r\n",
      "<?xml-stylesheet href=\"CoreNLP-to-HTML.xsl\" type=\"text/xsl\"?>\r\n",
      "<root>\r\n",
      "  <document>\r\n",
      "    <sentences>\r\n",
      "      <sentence id=\"1\" line=\"1\">\r\n",
      "        <tokens>\r\n",
      "          <token id=\"1\">\r\n",
      "            <word>Natural</word>\r\n",
      "            <lemma>natural</lemma>\r\n"
     ]
    }
   ],
   "source": [
    "%%bash\n",
    "\n",
    "head nlp.xml"
   ]
  },
  {
   "cell_type": "code",
   "execution_count": 10,
   "metadata": {},
   "outputs": [
    {
     "data": {
      "text/plain": [
       "54"
      ]
     },
     "execution_count": 10,
     "metadata": {},
     "output_type": "execute_result"
    }
   ],
   "source": [
    "import xml.etree.ElementTree as ET\n",
    "tree = ET.parse('nlp.xml')\n",
    "root = tree.getroot()\n",
    "sentences = root.findall('.//sentences/sentence')\n",
    "len(sentences)"
   ]
  },
  {
   "cell_type": "code",
   "execution_count": 11,
   "metadata": {},
   "outputs": [
    {
     "name": "stdout",
     "output_type": "stream",
     "text": [
      "Natural\n",
      "language\n",
      "processing\n",
      "-LRB-\n",
      "NLP\n",
      "-RRB-\n",
      "is\n",
      "a\n",
      "field\n",
      "of\n",
      "computer\n",
      "science\n",
      ",\n",
      "artificial\n",
      "intelligence\n",
      ",\n",
      "and\n",
      "linguistics\n",
      "concerned\n",
      "with\n",
      "the\n",
      "interactions\n",
      "between\n",
      "computers\n",
      "and\n",
      "human\n",
      "-LRB-\n",
      "natural\n",
      "-RRB-\n",
      "languages\n",
      ".\n",
      "\n",
      "As\n",
      "such\n",
      ",\n",
      "NLP\n",
      "is\n",
      "related\n",
      "to\n",
      "the\n",
      "area\n",
      "of\n",
      "humani-computer\n",
      "interaction\n",
      ".\n",
      "\n"
     ]
    }
   ],
   "source": [
    "for sent in  sentences[2:4]:\n",
    "    for token in sent.findall('tokens/token'):\n",
    "        word = token.find('word').text\n",
    "        print(word)\n",
    "    print()"
   ]
  },
  {
   "cell_type": "markdown",
   "metadata": {},
   "source": [
    "## 54. 品詞タグ付け\n",
    "Stanford Core NLPの解析結果XMLを読み込み，単語，レンマ，品詞をタブ区切り形式で出力せよ．"
   ]
  },
  {
   "cell_type": "code",
   "execution_count": 12,
   "metadata": {},
   "outputs": [
    {
     "name": "stdout",
     "output_type": "stream",
     "text": [
      "As\tas\tIN\n",
      "such\tsuch\tJJ\n",
      ",\t,\t,\n",
      "NLP\tnlp\tNN\n",
      "is\tbe\tVBZ\n",
      "related\trelate\tVBN\n",
      "to\tto\tTO\n",
      "the\tthe\tDT\n",
      "area\tarea\tNN\n",
      "of\tof\tIN\n",
      "humani-computer\thumani-computer\tJJ\n",
      "interaction\tinteraction\tNN\n",
      ".\t.\t.\n"
     ]
    }
   ],
   "source": [
    "sent = sentences[3]\n",
    "for token in sent.findall('tokens/token'):\n",
    "    word = token.find('word').text\n",
    "    lemma = token.find('lemma').text\n",
    "    pos = token.find('POS').text\n",
    "    print('\\t'.join([word, lemma, pos]))"
   ]
  },
  {
   "cell_type": "markdown",
   "metadata": {},
   "source": [
    "## 55. 固有表現抽出\n",
    "入力文中の人名をすべて抜き出せ．"
   ]
  },
  {
   "cell_type": "code",
   "execution_count": 13,
   "metadata": {},
   "outputs": [
    {
     "name": "stdout",
     "output_type": "stream",
     "text": [
      "Alan\n",
      "Turing\n",
      "Joseph\n",
      "Weizenbaum\n",
      "MARGIE\n",
      "Schank\n",
      "Wilensky\n",
      "Meehan\n",
      "Lehnert\n",
      "Carbonell\n",
      "Lehnert\n",
      "Jabberwacky\n",
      "Moore\n"
     ]
    }
   ],
   "source": [
    "for sent in sentences:\n",
    "    for token in sent.findall('tokens/token'):\n",
    "        ner = token.find('NER').text\n",
    "        if ner == 'PERSON':\n",
    "            print(token.find('word').text)"
   ]
  },
  {
   "cell_type": "markdown",
   "metadata": {},
   "source": [
    "## 56. 共参照解析\n",
    "Stanford Core NLPの共参照解析の結果に基づき，文中の参照表現（mention）を代表参照表現（representative mention）に置換せよ．ただし，置換するときは，「代表参照表現（参照表現）」のように，元の参照表現が分かるように配慮せよ．"
   ]
  },
  {
   "cell_type": "code",
   "execution_count": 14,
   "metadata": {},
   "outputs": [
    {
     "name": "stdout",
     "output_type": "stream",
     "text": [
      "machine translation\n",
      "machine translation (machine translation)\n",
      "machine translation (machine translation)\n",
      "\n",
      "hand-written rules\n",
      "hand-written rules (hand-written rules)\n",
      "hand-written rules (the rules)\n",
      "hand-written rules (the rules)\n",
      "\n",
      "the corresponding systems of government\n",
      "the corresponding systems of government (the corresponding systems of government)\n",
      "the corresponding systems of government (systems of hard if-then rules similar to existing hand-written rules)\n",
      "the corresponding systems of government (These systems)\n",
      "the corresponding systems of government (these systems , which was -LRB- and often continues to be -RRB-)\n",
      "the corresponding systems of government (these systems)\n",
      "the corresponding systems of government (these systems)\n",
      "\n",
      "1978\n",
      "1978 (1978)\n",
      "1978 (1978)\n",
      "\n",
      "The machine-learning paradigm\n",
      "The machine-learning paradigm (The machine-learning paradigm)\n",
      "The machine-learning paradigm (The paradigm of machine learning)\n",
      "\n",
      "the late 1980s\n",
      "the late 1980s (the late 1980s)\n",
      "the late 1980s (the late 1980s)\n",
      "\n",
      "the input data\n",
      "the input data (the input data)\n",
      "the input data (the input data)\n",
      "\n",
      "Such models\n",
      "Such models (Such models)\n",
      "Such models (they)\n",
      "\n",
      "machine learning algorithms\n",
      "machine learning algorithms (machine learning algorithms)\n",
      "machine learning algorithms (These algorithms)\n",
      "machine learning algorithms (the earliest-used algorithms)\n",
      "\n",
      "you\n",
      "you (you)\n",
      "you (your)\n",
      "\n"
     ]
    }
   ],
   "source": [
    "for coref in root.findall('.//coreference/coreference'):\n",
    "    representative = ''\n",
    "    for token in coref.findall('mention'):\n",
    "        if 'representative' in token.attrib and token.attrib['representative'] == \"true\":\n",
    "            representative = token.find('text').text\n",
    "            print(representative)\n",
    "        mention = token.find('text').text\n",
    "        print(representative, '(%s)' % mention)\n",
    "    print()"
   ]
  },
  {
   "cell_type": "markdown",
   "metadata": {},
   "source": [
    "## 57. 係り受け解析\n",
    "Stanford Core NLPの係り受け解析の結果（collapsed-dependencies）を有向グラフとして可視化せよ．可視化には，係り受け木をDOT言語に変換し，Graphvizを用いるとよい．また，Pythonから有向グラフを直接的に可視化するには，pydotを使うとよい．"
   ]
  },
  {
   "cell_type": "code",
   "execution_count": 15,
   "metadata": {
    "collapsed": true
   },
   "outputs": [],
   "source": [
    "dependency_graph = []\n",
    "for sent in sentences:\n",
    "    nodes = set([])\n",
    "    edges = set([])\n",
    "    for dep in sent.findall('dependencies[@type=\"collapsed-dependencies\"]/dep'):\n",
    "        governor = dep.find('governor')\n",
    "        dependent = dep.find('dependent')\n",
    "        nodes.add((governor.attrib['idx'], governor.text))\n",
    "        nodes.add((dependent.attrib['idx'], dependent.text))\n",
    "        edges.add((governor.attrib['idx'], dependent.attrib['idx'], dep.attrib['type']))\n",
    "    dependency_graph.append((nodes, edges))"
   ]
  },
  {
   "cell_type": "code",
   "execution_count": 16,
   "metadata": {
    "collapsed": true
   },
   "outputs": [],
   "source": [
    "import pydot\n",
    "\n",
    "def build_graph(sent):\n",
    "    g = pydot.Dot(graph_type=\"digraph\")\n",
    "    nodes, edges = sent \n",
    "\n",
    "    # nodes\n",
    "    for node in sorted(list(nodes), key=lambda x: int(x[0])):\n",
    "        surface = node[1] if node[1] not in [','] else '\"'+node[1]+'\"'\n",
    "        g.add_node(pydot.Node(node[0], label=surface))\n",
    "\n",
    "    # edges\n",
    "    for edge in edges:\n",
    "        g.add_edge(pydot.Edge(edge[0], edge[1], label=edge[2].replace(':', '_')))\n",
    "    \n",
    "    return g.to_string()"
   ]
  },
  {
   "cell_type": "code",
   "execution_count": 17,
   "metadata": {
    "collapsed": true
   },
   "outputs": [],
   "source": [
    "from IPython.display import SVG, display\n",
    "import subprocess\n",
    "\n",
    "# source: http://www.nltk.org/_modules/nltk/parse/dependencygraph.html\n",
    "\n",
    "def display_graph(dot_string):\n",
    "    process = subprocess.Popen(\n",
    "        ['dot', '-Tsvg'],\n",
    "        stdin=subprocess.PIPE,\n",
    "        stdout=subprocess.PIPE,\n",
    "        stderr=subprocess.PIPE,\n",
    "        universal_newlines=True,\n",
    "    )\n",
    "    out, err = process.communicate(dot_string)\n",
    "    display(SVG(out))\n",
    "    "
   ]
  },
  {
   "cell_type": "code",
   "execution_count": 18,
   "metadata": {},
   "outputs": [
    {
     "name": "stdout",
     "output_type": "stream",
     "text": [
      "As such , NLP is related to the area of humani-computer interaction .\n"
     ]
    },
    {
     "data": {
      "image/svg+xml": [
       "<svg height=\"388pt\" viewBox=\"0.00 0.00 550.97 388.00\" width=\"551pt\" xmlns=\"http://www.w3.org/2000/svg\" xmlns:xlink=\"http://www.w3.org/1999/xlink\">\n",
       "<g class=\"graph\" id=\"graph0\" transform=\"scale(1 1) rotate(0) translate(4 384)\">\n",
       "<title>G</title>\n",
       "<polygon fill=\"white\" points=\"-4,4 -4,-384 546.974,-384 546.974,4 -4,4\" stroke=\"none\"/>\n",
       "<!-- 0 -->\n",
       "<g class=\"node\" id=\"node1\"><title>0</title>\n",
       "<ellipse cx=\"208\" cy=\"-362\" fill=\"none\" rx=\"34.3614\" ry=\"18\" stroke=\"black\"/>\n",
       "<text font-family=\"Times,serif\" font-size=\"14.00\" text-anchor=\"middle\" x=\"208\" y=\"-357.8\">ROOT</text>\n",
       "</g>\n",
       "<!-- 6 -->\n",
       "<g class=\"node\" id=\"node7\"><title>6</title>\n",
       "<ellipse cx=\"208\" cy=\"-276\" fill=\"none\" rx=\"34.3267\" ry=\"18\" stroke=\"black\"/>\n",
       "<text font-family=\"Times,serif\" font-size=\"14.00\" text-anchor=\"middle\" x=\"208\" y=\"-271.8\">related</text>\n",
       "</g>\n",
       "<!-- 0&#45;&gt;6 -->\n",
       "<g class=\"edge\" id=\"edge2\"><title>0-&gt;6</title>\n",
       "<path d=\"M208,-343.595C208,-332.257 208,-317.227 208,-304.315\" fill=\"none\" stroke=\"black\"/>\n",
       "<polygon fill=\"black\" points=\"211.5,-304.095 208,-294.095 204.5,-304.095 211.5,-304.095\" stroke=\"black\"/>\n",
       "<text font-family=\"Times,serif\" font-size=\"14.00\" text-anchor=\"middle\" x=\"219.276\" y=\"-314.8\">root</text>\n",
       "</g>\n",
       "<!-- 1 -->\n",
       "<g class=\"node\" id=\"node2\"><title>1</title>\n",
       "<ellipse cx=\"27\" cy=\"-104\" fill=\"none\" rx=\"27\" ry=\"18\" stroke=\"black\"/>\n",
       "<text font-family=\"Times,serif\" font-size=\"14.00\" text-anchor=\"middle\" x=\"27\" y=\"-99.8\">As</text>\n",
       "</g>\n",
       "<!-- 2 -->\n",
       "<g class=\"node\" id=\"node3\"><title>2</title>\n",
       "<ellipse cx=\"27\" cy=\"-190\" fill=\"none\" rx=\"27\" ry=\"18\" stroke=\"black\"/>\n",
       "<text font-family=\"Times,serif\" font-size=\"14.00\" text-anchor=\"middle\" x=\"27\" y=\"-185.8\">such</text>\n",
       "</g>\n",
       "<!-- 2&#45;&gt;1 -->\n",
       "<g class=\"edge\" id=\"edge7\"><title>2-&gt;1</title>\n",
       "<path d=\"M27,-171.595C27,-160.257 27,-145.227 27,-132.315\" fill=\"none\" stroke=\"black\"/>\n",
       "<polygon fill=\"black\" points=\"30.5001,-132.095 27,-122.095 23.5001,-132.095 30.5001,-132.095\" stroke=\"black\"/>\n",
       "<text font-family=\"Times,serif\" font-size=\"14.00\" text-anchor=\"middle\" x=\"39.0449\" y=\"-142.8\">case</text>\n",
       "</g>\n",
       "<!-- 3 -->\n",
       "<g class=\"node\" id=\"node4\"><title>3</title>\n",
       "<ellipse cx=\"100\" cy=\"-190\" fill=\"none\" rx=\"27\" ry=\"18\" stroke=\"black\"/>\n",
       "<text font-family=\"Times,serif\" font-size=\"14.00\" text-anchor=\"middle\" x=\"100\" y=\"-185.8\">,</text>\n",
       "</g>\n",
       "<!-- 4 -->\n",
       "<g class=\"node\" id=\"node5\"><title>4</title>\n",
       "<ellipse cx=\"172\" cy=\"-190\" fill=\"none\" rx=\"27\" ry=\"18\" stroke=\"black\"/>\n",
       "<text font-family=\"Times,serif\" font-size=\"14.00\" text-anchor=\"middle\" x=\"172\" y=\"-185.8\">NLP</text>\n",
       "</g>\n",
       "<!-- 5 -->\n",
       "<g class=\"node\" id=\"node6\"><title>5</title>\n",
       "<ellipse cx=\"246\" cy=\"-190\" fill=\"none\" rx=\"27\" ry=\"18\" stroke=\"black\"/>\n",
       "<text font-family=\"Times,serif\" font-size=\"14.00\" text-anchor=\"middle\" x=\"246\" y=\"-185.8\">is</text>\n",
       "</g>\n",
       "<!-- 6&#45;&gt;2 -->\n",
       "<g class=\"edge\" id=\"edge1\"><title>6-&gt;2</title>\n",
       "<path d=\"M174.147,-272.742C143.866,-269.37 99.3185,-260.962 66.4482,-240 56.679,-233.77 48.2317,-224.288 41.6887,-215.319\" fill=\"none\" stroke=\"black\"/>\n",
       "<polygon fill=\"black\" points=\"44.5426,-213.292 36.0178,-207.001 38.7587,-217.235 44.5426,-213.292\" stroke=\"black\"/>\n",
       "<text font-family=\"Times,serif\" font-size=\"14.00\" text-anchor=\"middle\" x=\"92.2759\" y=\"-228.8\">nmod_as</text>\n",
       "</g>\n",
       "<!-- 6&#45;&gt;3 -->\n",
       "<g class=\"edge\" id=\"edge13\"><title>6-&gt;3</title>\n",
       "<path d=\"M179.498,-265.93C164.493,-260.172 146.449,-251.598 132.896,-240 125.121,-233.346 118.406,-224.426 113.107,-216.021\" fill=\"none\" stroke=\"black\"/>\n",
       "<polygon fill=\"black\" points=\"116.021,-214.073 107.929,-207.234 109.99,-217.626 116.021,-214.073\" stroke=\"black\"/>\n",
       "<text font-family=\"Times,serif\" font-size=\"14.00\" text-anchor=\"middle\" x=\"148.552\" y=\"-228.8\">punct</text>\n",
       "</g>\n",
       "<!-- 6&#45;&gt;4 -->\n",
       "<g class=\"edge\" id=\"edge5\"><title>6-&gt;4</title>\n",
       "<path d=\"M187.574,-261.28C180.846,-255.574 174.166,-248.326 170.552,-240 167.603,-233.208 166.826,-225.373 167.085,-217.989\" fill=\"none\" stroke=\"black\"/>\n",
       "<polygon fill=\"black\" points=\"170.572,-218.289 168.022,-208.006 163.603,-217.635 170.572,-218.289\" stroke=\"black\"/>\n",
       "<text font-family=\"Times,serif\" font-size=\"14.00\" text-anchor=\"middle\" x=\"198.224\" y=\"-228.8\">nsubjpass</text>\n",
       "</g>\n",
       "<!-- 6&#45;&gt;5 -->\n",
       "<g class=\"edge\" id=\"edge3\"><title>6-&gt;5</title>\n",
       "<path d=\"M216.29,-258.341C219.113,-252.562 222.249,-246.022 225,-240 228.331,-232.708 231.813,-224.74 234.961,-217.389\" fill=\"none\" stroke=\"black\"/>\n",
       "<polygon fill=\"black\" points=\"238.317,-218.441 239.003,-207.868 231.873,-215.706 238.317,-218.441\" stroke=\"black\"/>\n",
       "<text font-family=\"Times,serif\" font-size=\"14.00\" text-anchor=\"middle\" x=\"253.162\" y=\"-228.8\">auxpass</text>\n",
       "</g>\n",
       "<!-- 9 -->\n",
       "<g class=\"node\" id=\"node10\"><title>9</title>\n",
       "<ellipse cx=\"318\" cy=\"-190\" fill=\"none\" rx=\"27\" ry=\"18\" stroke=\"black\"/>\n",
       "<text font-family=\"Times,serif\" font-size=\"14.00\" text-anchor=\"middle\" x=\"318\" y=\"-185.8\">area</text>\n",
       "</g>\n",
       "<!-- 6&#45;&gt;9 -->\n",
       "<g class=\"edge\" id=\"edge8\"><title>6-&gt;9</title>\n",
       "<path d=\"M235.264,-264.917C249.208,-258.962 265.945,-250.52 279,-240 287.635,-233.042 295.581,-223.849 302.015,-215.308\" fill=\"none\" stroke=\"black\"/>\n",
       "<polygon fill=\"black\" points=\"304.926,-217.255 307.915,-207.09 299.24,-213.172 304.926,-217.255\" stroke=\"black\"/>\n",
       "<text font-family=\"Times,serif\" font-size=\"14.00\" text-anchor=\"middle\" x=\"317.89\" y=\"-228.8\">nmod_to</text>\n",
       "</g>\n",
       "<!-- 13 -->\n",
       "<g class=\"node\" id=\"node14\"><title>13</title>\n",
       "<ellipse cx=\"390\" cy=\"-190\" fill=\"none\" rx=\"27\" ry=\"18\" stroke=\"black\"/>\n",
       "<text font-family=\"Times,serif\" font-size=\"14.00\" text-anchor=\"middle\" x=\"390\" y=\"-185.8\">.</text>\n",
       "</g>\n",
       "<!-- 6&#45;&gt;13 -->\n",
       "<g class=\"edge\" id=\"edge4\"><title>6-&gt;13</title>\n",
       "<path d=\"M241.62,-272.204C271.208,-268.479 314.513,-259.855 347,-240 357.351,-233.674 366.573,-224.055 373.796,-215.009\" fill=\"none\" stroke=\"black\"/>\n",
       "<polygon fill=\"black\" points=\"376.626,-217.07 379.843,-206.975 371.033,-212.86 376.626,-217.07\" stroke=\"black\"/>\n",
       "<text font-family=\"Times,serif\" font-size=\"14.00\" text-anchor=\"middle\" x=\"379.552\" y=\"-228.8\">punct</text>\n",
       "</g>\n",
       "<!-- 7 -->\n",
       "<g class=\"node\" id=\"node8\"><title>7</title>\n",
       "<ellipse cx=\"246\" cy=\"-104\" fill=\"none\" rx=\"27\" ry=\"18\" stroke=\"black\"/>\n",
       "<text font-family=\"Times,serif\" font-size=\"14.00\" text-anchor=\"middle\" x=\"246\" y=\"-99.8\">to</text>\n",
       "</g>\n",
       "<!-- 8 -->\n",
       "<g class=\"node\" id=\"node9\"><title>8</title>\n",
       "<ellipse cx=\"318\" cy=\"-104\" fill=\"none\" rx=\"27\" ry=\"18\" stroke=\"black\"/>\n",
       "<text font-family=\"Times,serif\" font-size=\"14.00\" text-anchor=\"middle\" x=\"318\" y=\"-99.8\">the</text>\n",
       "</g>\n",
       "<!-- 9&#45;&gt;7 -->\n",
       "<g class=\"edge\" id=\"edge6\"><title>9-&gt;7</title>\n",
       "<path d=\"M305.128,-173.982C294.07,-161.082 277.964,-142.291 265.353,-127.579\" fill=\"none\" stroke=\"black\"/>\n",
       "<polygon fill=\"black\" points=\"267.926,-125.202 258.761,-119.888 262.611,-129.758 267.926,-125.202\" stroke=\"black\"/>\n",
       "<text font-family=\"Times,serif\" font-size=\"14.00\" text-anchor=\"middle\" x=\"299.045\" y=\"-142.8\">case</text>\n",
       "</g>\n",
       "<!-- 9&#45;&gt;8 -->\n",
       "<g class=\"edge\" id=\"edge11\"><title>9-&gt;8</title>\n",
       "<path d=\"M318,-171.595C318,-160.257 318,-145.227 318,-132.315\" fill=\"none\" stroke=\"black\"/>\n",
       "<polygon fill=\"black\" points=\"321.5,-132.095 318,-122.095 314.5,-132.095 321.5,-132.095\" stroke=\"black\"/>\n",
       "<text font-family=\"Times,serif\" font-size=\"14.00\" text-anchor=\"middle\" x=\"326.552\" y=\"-142.8\">det</text>\n",
       "</g>\n",
       "<!-- 12 -->\n",
       "<g class=\"node\" id=\"node13\"><title>12</title>\n",
       "<ellipse cx=\"411\" cy=\"-104\" fill=\"none\" rx=\"47.841\" ry=\"18\" stroke=\"black\"/>\n",
       "<text font-family=\"Times,serif\" font-size=\"14.00\" text-anchor=\"middle\" x=\"411\" y=\"-99.8\">interaction</text>\n",
       "</g>\n",
       "<!-- 9&#45;&gt;12 -->\n",
       "<g class=\"edge\" id=\"edge10\"><title>9-&gt;12</title>\n",
       "<path d=\"M333.357,-175.129C347.545,-162.315 368.891,-143.034 385.612,-127.931\" fill=\"none\" stroke=\"black\"/>\n",
       "<polygon fill=\"black\" points=\"388.323,-130.199 393.398,-120.899 383.631,-125.004 388.323,-130.199\" stroke=\"black\"/>\n",
       "<text font-family=\"Times,serif\" font-size=\"14.00\" text-anchor=\"middle\" x=\"396.276\" y=\"-142.8\">nmod_of</text>\n",
       "</g>\n",
       "<!-- 10 -->\n",
       "<g class=\"node\" id=\"node11\"><title>10</title>\n",
       "<ellipse cx=\"352\" cy=\"-18\" fill=\"none\" rx=\"27\" ry=\"18\" stroke=\"black\"/>\n",
       "<text font-family=\"Times,serif\" font-size=\"14.00\" text-anchor=\"middle\" x=\"352\" y=\"-13.8\">of</text>\n",
       "</g>\n",
       "<!-- 11 -->\n",
       "<g class=\"node\" id=\"node12\"><title>11</title>\n",
       "<ellipse cx=\"470\" cy=\"-18\" fill=\"none\" rx=\"72.948\" ry=\"18\" stroke=\"black\"/>\n",
       "<text font-family=\"Times,serif\" font-size=\"14.00\" text-anchor=\"middle\" x=\"470\" y=\"-13.8\">humani-computer</text>\n",
       "</g>\n",
       "<!-- 12&#45;&gt;10 -->\n",
       "<g class=\"edge\" id=\"edge9\"><title>12-&gt;10</title>\n",
       "<path d=\"M399.343,-86.4043C390.693,-74.0888 378.764,-57.1052 369.045,-43.2674\" fill=\"none\" stroke=\"black\"/>\n",
       "<polygon fill=\"black\" points=\"371.645,-40.8804 363.034,-34.7089 365.917,-44.9038 371.645,-40.8804\" stroke=\"black\"/>\n",
       "<text font-family=\"Times,serif\" font-size=\"14.00\" text-anchor=\"middle\" x=\"398.045\" y=\"-56.8\">case</text>\n",
       "</g>\n",
       "<!-- 12&#45;&gt;11 -->\n",
       "<g class=\"edge\" id=\"edge12\"><title>12-&gt;11</title>\n",
       "<path d=\"M422.657,-86.4043C431.086,-74.4025 442.63,-57.9676 452.208,-44.3311\" fill=\"none\" stroke=\"black\"/>\n",
       "<polygon fill=\"black\" points=\"455.282,-46.0436 458.166,-35.8487 449.554,-42.0202 455.282,-46.0436\" stroke=\"black\"/>\n",
       "<text font-family=\"Times,serif\" font-size=\"14.00\" text-anchor=\"middle\" x=\"459.552\" y=\"-56.8\">amod</text>\n",
       "</g>\n",
       "</g>\n",
       "</svg>"
      ],
      "text/plain": [
       "<IPython.core.display.SVG object>"
      ]
     },
     "metadata": {},
     "output_type": "display_data"
    }
   ],
   "source": [
    "sent_id = 3\n",
    "print(' '.join([token.find('word').text for sent in sentences[sent_id:sent_id+1] \n",
    "                for token in sent.findall('tokens/token')]))\n",
    "sent = dependency_graph[sent_id]\n",
    "graph = build_graph(sent)\n",
    "display_graph(graph)"
   ]
  },
  {
   "cell_type": "markdown",
   "metadata": {
    "collapsed": true
   },
   "source": [
    "## 58. タプルの抽出\n",
    "Stanford Core NLPの係り受け解析の結果（collapsed-dependencies）に基づき，「主語 述語 目的語」の組をタブ区切り形式で出力せよ．ただし，主語，述語，目的語の定義は以下を参考にせよ．\n",
    "\n",
    "- 述語: nsubj関係とdobj関係の子（dependant）を持つ単語\n",
    "- 主語: 述語からnsubj関係にある子（dependent）\n",
    "- 目的語: 述語からdobj関係にある子（dependent）"
   ]
  },
  {
   "cell_type": "code",
   "execution_count": 19,
   "metadata": {},
   "outputs": [
    {
     "name": "stdout",
     "output_type": "stream",
     "text": [
      "understanding\tenabling\tcomputers\n",
      "others\tinvolve\tgeneration\n",
      "Turing\tpublished\tarticle\n",
      "experiment\tinvolved\ttranslation\n",
      "ELIZA\tprovided\tinteraction\n",
      "patient\texceeded\tbase\n",
      "ELIZA\tprovide\tresponse\n",
      "which\tstructured\tinformation\n",
      "underpinnings\tdiscouraged\tsort\n",
      "that\tunderlies\tapproach\n",
      "Some\tproduced\tsystems\n",
      "which\tmake\tdecisions\n",
      "systems\trely\twhich\n",
      "that\tcontains\terrors\n",
      "implementations\tinvolved\tcoding\n",
      "algorithms\ttake\tset\n",
      "Some\tproduced\tsystems\n",
      "which\tmake\tdecisions\n",
      "models\thave\tadvantage\n",
      "they\texpress\tcertainty\n",
      "Systems\thave\tadvantages\n",
      "Automatic\tmake\tuse\n",
      "that\tmake\tdecisions\n"
     ]
    }
   ],
   "source": [
    "from collections import defaultdict\n",
    "\n",
    "for sent in sentences:\n",
    "    pred = defaultdict(lambda: [''] * 3)\n",
    "    for dep in sent.findall('dependencies[@type=\"collapsed-dependencies\"]/dep'):\n",
    "        if dep.attrib['type'] == 'nsubj':\n",
    "            verb = dep.find('governor')\n",
    "            subj = dep.find('dependent')\n",
    "            pred[verb.attrib['idx']][0] = subj.text\n",
    "            pred[verb.attrib['idx']][1] = verb.text\n",
    "        elif dep.attrib['type'] == 'dobj':\n",
    "            verb = dep.find('governor')\n",
    "            obj = dep.find('dependent')\n",
    "            pred[verb.attrib['idx']][2] = obj.text\n",
    "            pred[verb.attrib['idx']][1] = verb.text\n",
    "    for v in pred.values():\n",
    "        if '' not in v:\n",
    "            print('\\t'.join(v))"
   ]
  },
  {
   "cell_type": "markdown",
   "metadata": {},
   "source": [
    "## 59. S式の解析\n",
    "Stanford Core NLPの句構造解析の結果（S式）を読み込み，文中のすべての名詞句（NP）を表示せよ．入れ子になっている名詞句もすべて表示すること．"
   ]
  },
  {
   "cell_type": "code",
   "execution_count": 20,
   "metadata": {
    "scrolled": false
   },
   "outputs": [
    {
     "name": "stdout",
     "output_type": "stream",
     "text": [
      "(NP (JJ such))\n",
      "(NP (NN NLP))\n",
      "(NP (DT the) (NN area))\n",
      "(NP (JJ humani-computer) (NN interaction))\n",
      "(NP (NP (DT the) (NN area)) (PP (IN of) (NP (JJ humani-computer) (NN interaction))))\n"
     ]
    }
   ],
   "source": [
    "import regex\n",
    "\n",
    "sent = sentences[3]\n",
    "tree = sent.find('parse').text\n",
    "phrases = regex.search(r'(?<rec>\\((?:[^()]+ |(?&rec))*\\))', tree, flags=regex.VERBOSE)\n",
    "for phrase in phrases.captures('rec'):\n",
    "    if phrase.startswith('(NP'):\n",
    "        print(phrase)"
   ]
  },
  {
   "cell_type": "code",
   "execution_count": 21,
   "metadata": {},
   "outputs": [
    {
     "name": "stdout",
     "output_type": "stream",
     "text": [
      "(NP (JJ such))\n",
      "(NP (NN NLP))\n",
      "(NP\n",
      "  (NP (DT the) (NN area))\n",
      "  (PP (IN of) (NP (JJ humani-computer) (NN interaction))))\n",
      "(NP (DT the) (NN area))\n",
      "(NP (JJ humani-computer) (NN interaction))\n"
     ]
    },
    {
     "data": {
      "image/png": "[encoded data removed]",
      "text/plain": [
       "Tree('ROOT', [Tree('S', [Tree('PP', [Tree('IN', ['As']), Tree('NP', [Tree('JJ', ['such'])])]), Tree(',', [',']), Tree('NP', [Tree('NN', ['NLP'])]), Tree('VP', [Tree('VBZ', ['is']), Tree('ADJP', [Tree('VBN', ['related']), Tree('PP', [Tree('TO', ['to']), Tree('NP', [Tree('NP', [Tree('DT', ['the']), Tree('NN', ['area'])]), Tree('PP', [Tree('IN', ['of']), Tree('NP', [Tree('JJ', ['humani-computer']), Tree('NN', ['interaction'])])])])])])]), Tree('.', ['.'])])])"
      ]
     },
     "execution_count": 21,
     "metadata": {},
     "output_type": "execute_result"
    }
   ],
   "source": [
    "from nltk.tree import Tree\n",
    "\n",
    "sent = sentences[3]\n",
    "parse = sent.find('parse').text\n",
    "tree = Tree.fromstring(parse)\n",
    "for subtree in tree.subtrees(filter=lambda x: x.label()=='NP'):\n",
    "    print(subtree)\n",
    "    \n",
    "tree"
   ]
  },
  {
   "cell_type": "code",
   "execution_count": null,
   "metadata": {
    "collapsed": true
   },
   "outputs": [],
   "source": []
  }
 ],
 "metadata": {
  "kernelspec": {
   "display_name": "Python 3",
   "language": "python",
   "name": "python3"
  },
  "language_info": {
   "codemirror_mode": {
    "name": "ipython",
    "version": 3
   },
   "file_extension": ".py",
   "mimetype": "text/x-python",
   "name": "python",
   "nbconvert_exporter": "python",
   "pygments_lexer": "ipython3",
   "version": "3.6.2"
  }
 },
 "nbformat": 4,
 "nbformat_minor": 2
}
